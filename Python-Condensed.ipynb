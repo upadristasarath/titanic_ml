{
 "cells": [
  {
   "cell_type": "code",
   "execution_count": 11,
   "id": "7c3161ea",
   "metadata": {},
   "outputs": [
    {
     "name": "stderr",
     "output_type": "stream",
     "text": [
      "C:\\Users\\upadr\\AppData\\Local\\Temp\\ipykernel_31196\\1802176583.py:30: FutureWarning: A value is trying to be set on a copy of a DataFrame or Series through chained assignment using an inplace method.\n",
      "The behavior will change in pandas 3.0. This inplace method will never work because the intermediate object on which we are setting values always behaves as a copy.\n",
      "\n",
      "For example, when doing 'df[col].method(value, inplace=True)', try using 'df.method({col: value}, inplace=True)' or df[col] = df[col].method(value) instead, to perform the operation inplace on the original object.\n",
      "\n",
      "\n",
      "  df['Age'].fillna(df['Age'].median(), inplace=True)\n",
      "C:\\Users\\upadr\\AppData\\Local\\Temp\\ipykernel_31196\\1802176583.py:31: FutureWarning: A value is trying to be set on a copy of a DataFrame or Series through chained assignment using an inplace method.\n",
      "The behavior will change in pandas 3.0. This inplace method will never work because the intermediate object on which we are setting values always behaves as a copy.\n",
      "\n",
      "For example, when doing 'df[col].method(value, inplace=True)', try using 'df.method({col: value}, inplace=True)' or df[col] = df[col].method(value) instead, to perform the operation inplace on the original object.\n",
      "\n",
      "\n",
      "  df['Fare'].fillna(df['Fare'].median(), inplace=True)\n",
      "C:\\Users\\upadr\\AppData\\Local\\Temp\\ipykernel_31196\\1802176583.py:32: FutureWarning: A value is trying to be set on a copy of a DataFrame or Series through chained assignment using an inplace method.\n",
      "The behavior will change in pandas 3.0. This inplace method will never work because the intermediate object on which we are setting values always behaves as a copy.\n",
      "\n",
      "For example, when doing 'df[col].method(value, inplace=True)', try using 'df.method({col: value}, inplace=True)' or df[col] = df[col].method(value) instead, to perform the operation inplace on the original object.\n",
      "\n",
      "\n",
      "  df['Embarked'].fillna('S', inplace=True)\n",
      "C:\\Users\\upadr\\AppData\\Local\\Temp\\ipykernel_31196\\1802176583.py:37: FutureWarning: A value is trying to be set on a copy of a DataFrame or Series through chained assignment using an inplace method.\n",
      "The behavior will change in pandas 3.0. This inplace method will never work because the intermediate object on which we are setting values always behaves as a copy.\n",
      "\n",
      "For example, when doing 'df[col].method(value, inplace=True)', try using 'df.method({col: value}, inplace=True)' or df[col] = df[col].method(value) instead, to perform the operation inplace on the original object.\n",
      "\n",
      "\n",
      "  df.Sex.replace(('male', 'female'), (0,1), inplace=True)\n",
      "C:\\Users\\upadr\\AppData\\Local\\Temp\\ipykernel_31196\\1802176583.py:37: FutureWarning: Downcasting behavior in `replace` is deprecated and will be removed in a future version. To retain the old behavior, explicitly call `result.infer_objects(copy=False)`. To opt-in to the future behavior, set `pd.set_option('future.no_silent_downcasting', True)`\n",
      "  df.Sex.replace(('male', 'female'), (0,1), inplace=True)\n",
      "C:\\Users\\upadr\\AppData\\Local\\Temp\\ipykernel_31196\\1802176583.py:38: FutureWarning: A value is trying to be set on a copy of a DataFrame or Series through chained assignment using an inplace method.\n",
      "The behavior will change in pandas 3.0. This inplace method will never work because the intermediate object on which we are setting values always behaves as a copy.\n",
      "\n",
      "For example, when doing 'df[col].method(value, inplace=True)', try using 'df.method({col: value}, inplace=True)' or df[col] = df[col].method(value) instead, to perform the operation inplace on the original object.\n",
      "\n",
      "\n",
      "  df.Embarked.replace(('S', 'C', 'Q'), (0, 1, 2), inplace=True)\n",
      "C:\\Users\\upadr\\AppData\\Local\\Temp\\ipykernel_31196\\1802176583.py:38: FutureWarning: Downcasting behavior in `replace` is deprecated and will be removed in a future version. To retain the old behavior, explicitly call `result.infer_objects(copy=False)`. To opt-in to the future behavior, set `pd.set_option('future.no_silent_downcasting', True)`\n",
      "  df.Embarked.replace(('S', 'C', 'Q'), (0, 1, 2), inplace=True)\n",
      "C:\\Users\\upadr\\AppData\\Local\\Temp\\ipykernel_31196\\1802176583.py:39: FutureWarning: A value is trying to be set on a copy of a DataFrame or Series through chained assignment using an inplace method.\n",
      "The behavior will change in pandas 3.0. This inplace method will never work because the intermediate object on which we are setting values always behaves as a copy.\n",
      "\n",
      "For example, when doing 'df[col].method(value, inplace=True)', try using 'df.method({col: value}, inplace=True)' or df[col] = df[col].method(value) instead, to perform the operation inplace on the original object.\n",
      "\n",
      "\n",
      "  df.Title.replace((\"Mr\", \"Miss\", \"Mrs\", \"Master\", \"Dr\", \"Rev\", \"Royality\", \"Officer\", \"Dona\"), (0, 1, 2, 3, 4, 5, 6, 7, 8), inplace=True)\n",
      "C:\\Users\\upadr\\AppData\\Local\\Temp\\ipykernel_31196\\1802176583.py:39: FutureWarning: Downcasting behavior in `replace` is deprecated and will be removed in a future version. To retain the old behavior, explicitly call `result.infer_objects(copy=False)`. To opt-in to the future behavior, set `pd.set_option('future.no_silent_downcasting', True)`\n",
      "  df.Title.replace((\"Mr\", \"Miss\", \"Mrs\", \"Master\", \"Dr\", \"Rev\", \"Royality\", \"Officer\", \"Dona\"), (0, 1, 2, 3, 4, 5, 6, 7, 8), inplace=True)\n"
     ]
    }
   ],
   "source": [
    "import pandas as pd\n",
    "from sklearn.model_selection import train_test_split\n",
    "import pickle\n",
    "from sklearn.ensemble import RandomForestClassifier\n",
    "# from sklearn.metrics import accuracy_score\n",
    "\n",
    "def get_title(name):\n",
    "    if '.' in name:\n",
    "        return name.split(\",\")[1].split(\".\")[0].strip()\n",
    "    else:\n",
    "        return \"No titles in name\"\n",
    "\n",
    "def shorter_titles(x):\n",
    "    title = x['Title']\n",
    "    if title in ['Capt', 'Col', 'Major']:\n",
    "        return 'Officer'\n",
    "    elif title in ['Jonkheer', 'Don',  \"the Countess\", \"Done\", \"Lady\", \"Sir\"]:\n",
    "        return \"Royality\"\n",
    "    elif title == \"Mme\":\n",
    "        return \"Mrs\"\n",
    "    elif title in [\"Mlle\", \"Ms\"]:\n",
    "        return \"Miss\"\n",
    "    else:\n",
    "        return title\n",
    "\n",
    "df = pd.read_csv(\"train.csv\")\n",
    "df['Title'] = df['Name'].map(lambda x: get_title(x))\n",
    "df['Title'] = df.apply(shorter_titles, axis=1)\n",
    "\n",
    "df['Age'].fillna(df['Age'].median(), inplace=True)\n",
    "df['Fare'].fillna(df['Fare'].median(), inplace=True)\n",
    "df['Embarked'].fillna('S', inplace=True)\n",
    "\n",
    "df.drop(\"Cabin\", axis=1, inplace=True)\n",
    "df.drop(\"Ticket\", axis=1, inplace=True)\n",
    "df.drop(\"Name\", axis=1, inplace=True)\n",
    "df.Sex.replace(('male', 'female'), (0,1), inplace=True)\n",
    "df.Embarked.replace(('S', 'C', 'Q'), (0, 1, 2), inplace=True)\n",
    "df.Title.replace((\"Mr\", \"Miss\", \"Mrs\", \"Master\", \"Dr\", \"Rev\", \"Royality\", \"Officer\", \"Dona\"), (0, 1, 2, 3, 4, 5, 6, 7, 8), inplace=True)\n",
    "\n",
    "x = df.drop(['Survived', 'PassengerId'], axis = 1)\n",
    "y = df[\"Survived\"]\n",
    "\n",
    "x_train, x_val, y_train, y_val = train_test_split(x, y, test_size = 0.1)\n",
    "randomforest = RandomForestClassifier()\n",
    "x_train = x_train.values\n",
    "randomforest.fit(x_train, y_train)\n",
    "\n",
    "pickle.dump(randomforest, open('titanic_model.sav', 'wb'))"
   ]
  },
  {
   "cell_type": "code",
   "execution_count": 14,
   "id": "91a534b6",
   "metadata": {},
   "outputs": [],
   "source": [
    "# Correct order in the dataframe\n",
    "def prediction_model(pclass, sex, age, sibsp, parch, fare, embarked, title):\n",
    "  import pickle\n",
    "  x = [[pclass, sex, age, sibsp, parch, fare, embarked, title]]\n",
    "  randomforest = pickle.load(open('titanic_model.sav', 'rb'))\n",
    "  predications = randomforest.predict(x)\n",
    "  print(predications)"
   ]
  },
  {
   "cell_type": "code",
   "execution_count": 16,
   "id": "b049177f",
   "metadata": {},
   "outputs": [
    {
     "name": "stdout",
     "output_type": "stream",
     "text": [
      "[1]\n"
     ]
    }
   ],
   "source": [
    "prediction_model(1, 1, 19, 2, 1, 2, 1, 2)"
   ]
  },
  {
   "cell_type": "code",
   "execution_count": null,
   "id": "2e17a3f5",
   "metadata": {},
   "outputs": [],
   "source": []
  }
 ],
 "metadata": {
  "kernelspec": {
   "display_name": "Python 3 (ipykernel)",
   "language": "python",
   "name": "python3"
  },
  "language_info": {
   "codemirror_mode": {
    "name": "ipython",
    "version": 3
   },
   "file_extension": ".py",
   "mimetype": "text/x-python",
   "name": "python",
   "nbconvert_exporter": "python",
   "pygments_lexer": "ipython3",
   "version": "3.11.4"
  }
 },
 "nbformat": 4,
 "nbformat_minor": 5
}
